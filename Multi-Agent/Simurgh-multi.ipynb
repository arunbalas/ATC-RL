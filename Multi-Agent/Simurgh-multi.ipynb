{
 "cells": [
  {
   "cell_type": "markdown",
   "metadata": {},
   "source": [
    "## 1. Getting started <a class=\"anchor\" id=\"first-section\"></a>"
   ]
  },
  {
   "cell_type": "markdown",
   "metadata": {},
   "source": [
    "### 1.1 Launch simulator (`BlueSky`) and the `BlueBird` interface layer\n",
    "\n",
    "If you have not already started the BlueSky simulator and BlueBird, you can launch them using the command below:"
   ]
  },
  {
   "cell_type": "code",
   "execution_count": 8,
   "metadata": {},
   "outputs": [
    {
     "name": "stderr",
     "output_type": "stream",
     "text": [
      "bluesky is up-to-date\n",
      "bluebird is up-to-date\n",
      "twitcher is up-to-date\n"
     ]
    },
    {
     "data": {
      "text/plain": [
       "True"
      ]
     },
     "execution_count": 8,
     "metadata": {},
     "output_type": "execute_result"
    }
   ],
   "source": [
    "!docker-compose --file ../docker-compose.yml up --detach\n",
    "import pydodo\n",
    "import gym\n",
    "import time\n",
    "import random\n",
    "import torch\n",
    "import numpy as np\n",
    "from collections import deque\n",
    "import matplotlib.pyplot as plt\n",
    "from maddpg_agent import Agent\n",
    "%matplotlib inline\n",
    "from gym import spaces\n",
    "from gym.utils import seeding\n",
    "import itertools\n",
    "from pydodo.episode_log import episode_log\n",
    "from pydodo import change_altitude\n",
    "from pydodo.metrics import loss_of_separation\n",
    "from pydodo.request_position import all_positions\n",
    "from pydodo.simulation_control import simulation_step, reset_simulation, pause_simulation\n",
    "\n",
    "\n",
    "#print(pydodo.bluebird_connect.get_bluebird_url())\n",
    "#help(pydodo.bluebird_config)\n",
    "pydodo.all_positions()\n",
    "pydodo.simulation_info()\n",
    "pydodo.upload_sector('sector-X-sector-X-140-400.geojson', 'test_sector')\n",
    "pydodo.upload_scenario('cartesian_2agent.json', 'test_scenario')"
   ]
  },
  {
   "cell_type": "code",
   "execution_count": 2,
   "metadata": {},
   "outputs": [],
   "source": [
    "def obsr(obs):\n",
    "    obs = np.array(obs)\n",
    "    state = obs[:,1:]\n",
    "    return np.array(state.tolist(),dtype=np.float32)\n",
    "\n",
    "\n",
    "class SimurghEnv(gym.Env):\n",
    "    \"\"\"Simple 2 flight environment\n",
    "\n",
    "    ...\n",
    "\n",
    "    \"\"\"\n",
    "\n",
    "    def __init__(self):\n",
    "        # TODO: make sure BlueBird (and BlueSky) are running\n",
    "        # TODO: make sure simulator mode is \"agent\"\n",
    "        # TODO: start scenario\n",
    "\n",
    "        self.action_space = None\n",
    "        self.observation_space = None\n",
    "\n",
    "        self.seed()\n",
    "\n",
    "        # Start the first episode\n",
    "        # self.reset()\n",
    "\n",
    "\n",
    "\n",
    "    def step(self, action):\n",
    "        \"\"\"\n",
    "        Run one timestep of the environment's dynamics. When end of\n",
    "        episode is reached, you are responsible for calling `reset()`\n",
    "        to reset this environment's state.\n",
    "\n",
    "        Accepts an action and returns a tuple (observation, reward, done, info).\n",
    "\n",
    "        Args:\n",
    "            action (object): an action provided to the agent\n",
    "\n",
    "        Returns:\n",
    "            observation (object): agent's observation of the current environment\n",
    "            reward (float) : amount of reward returned after previous action\n",
    "            done (bool): whether the episode has ended, in which case further step() calls will return undefined results\n",
    "        \"\"\"\n",
    "        # assert self.action_space.contains(action)\n",
    "        if action is not None:\n",
    "            # print(all_positions().index)\n",
    "            #print(\"HELLO WORLD!\")\n",
    "            change_altitude('DELTA210', flight_level=action[0])\n",
    "            change_altitude('DELTA426', flight_level=action[1])\n",
    "            \n",
    "        simulation_step()\n",
    "\n",
    "        \n",
    "        #REWARD:\n",
    "        \n",
    "        aircraft_pos = all_positions()\n",
    "        aircraft_pairs = itertools.combinations(aircraft_pos.index, r=2)\n",
    "        \n",
    "        separations = np.array([loss_of_separation(acid1, acid2) for acid1, acid2 in aircraft_pairs])\n",
    "        \n",
    "        # print(sum(separations))\n",
    "        reward = -10*abs(separations) if (separations >0 or separations<0) else 10\n",
    "        #done = (pydodo.sector_exit(\"DELTA210\")==0) or (pydodo.sector_exit(\"DELTA426\")==0) or bool(1-(loss_of_separation!=0))\n",
    "        done = (pydodo.aircraft_position(\"DELTA210\")['latitude']<50.9).bool() or (pydodo.aircraft_position(\"DELTA426\")['longitude']>0.5).bool() #or bool((loss_of_separation!=0))\n",
    "        \n",
    "        print(reward, separations)\n",
    "        # observation, reward, done, info\n",
    "        return all_positions(), reward, done\n",
    "\n",
    "#         val = self.np_random.randint(49, 50)\n",
    "#         if val == action == 50:\n",
    "#             # observation, reward, done, info\n",
    "#             reward = -1.0\n",
    "#             return 0, reward, False, {}\n",
    "\n",
    "        # TODO: take action\n",
    "        # --> probably need to determine some ACTION_MAPPING\n",
    "\n",
    "\n",
    "        # TODO: get sector exit scores (Simulator not working!!)\n",
    "\n",
    "\n",
    "        # NOTE: define end of episode as no aircraft in simulation\n",
    "\n",
    "        # return obs, sum(separations), done, {}\n",
    "\n",
    "    def reset(self):\n",
    "        \"\"\"Resets the state of the environment and returns an initial observation.\n",
    "        Returns:\n",
    "            observation (object): the initial observation.\n",
    "        \"\"\"\n",
    "        pydodo.reset_simulation()\n",
    "        pydodo.upload_sector('sector-X-sector-X-140-400.geojson', 'test_sector')\n",
    "        pydodo.upload_scenario('cartesian_2agent.json', 'test_scenario')\n",
    "        #reset_simulation()\n",
    "\n",
    "    def close(self):\n",
    "        \"\"\"Override close in the subclass to perform any necessary cleanup.\n",
    "        Environments will automatically close() themselves when\n",
    "        garbage collected or when the program exits.\n",
    "        \"\"\"\n",
    "        pause_simulation()\n",
    "        episode_log()\n",
    "\n"
   ]
  },
  {
   "cell_type": "code",
   "execution_count": 3,
   "metadata": {},
   "outputs": [
    {
     "name": "stderr",
     "output_type": "stream",
     "text": [
      "C:\\Users\\Arun\\Anaconda3\\envs\\drl\\lib\\site-packages\\gym\\logger.py:30: UserWarning: \u001b[33mWARN: Could not seed environment <SimurghEnv instance>\u001b[0m\n",
      "  warnings.warn(colorize('%s: %s'%('WARN', msg % args), 'yellow'))\n"
     ]
    }
   ],
   "source": [
    "env = SimurghEnv()\n",
    "env.observation_space = 8\n",
    "env.action_space = 1\n",
    "num_agents = 2"
   ]
  },
  {
   "cell_type": "code",
   "execution_count": 4,
   "metadata": {},
   "outputs": [],
   "source": [
    "agent = Agent(state_size=8, action_size=1, random_seed=10)"
   ]
  },
  {
   "cell_type": "code",
   "execution_count": null,
   "metadata": {},
   "outputs": [],
   "source": [
    "#Take some actions\n",
    "state = pydodo.all_positions()                                 # reset the environment    \n",
    "scores = np.zeros(num_agents)                          # initialize the score \n",
    "for i in range(20):\n",
    "    action = (100,100)\n",
    "    #action = env.action_space.sample()             # select an action \n",
    "    nxt_state, reward, done = env.step(action)           # send all actions to the environment\n",
    "    next_state = obsr(nxt_state)\n",
    "    scores += reward                         # update the score \n",
    "    state = next_state\n",
    "#     if np.any(done):                                  # exit loop if episode finished\n",
    "#         break\n",
    "print('Total score (averaged over agents) this episode: {}'.format(np.mean(scores)))"
   ]
  },
  {
   "cell_type": "code",
   "execution_count": null,
   "metadata": {},
   "outputs": [],
   "source": [
    "def ddpg(n_episodes=1500, max_t=1000, print_every=10):\n",
    "    scores_deque = deque(maxlen=print_every)\n",
    "    scores = []\n",
    "    i=0\n",
    "    for i_episode in range(1, n_episodes+1):\n",
    "        #Take random actions\n",
    "        env.reset()\n",
    "        obs = pydodo.all_positions()                                 # reset the environment  \n",
    "        state = np.array(obsr(obs))\n",
    "        action = np.array([60,60])\n",
    "        agent.reset()\n",
    "        score = np.zeros(num_agents)\n",
    "        while True:\n",
    "            if i % print_every == 0:\n",
    "                actions =((agent.act(state).reshape(2))/10).astype(int)            # select an action\n",
    "                action = np.clip(actions, 60, 75)\n",
    "                print(action)\n",
    "            #action = (100,200)\n",
    "            print(action)\n",
    "            nxt_state, reward, done = env.step(action)           # send all actions to the environment\n",
    "            #time.sleep(0.1)\n",
    "            next_state = obsr(nxt_state)\n",
    "            agent.step(state, action, reward, next_state, done)\n",
    "            state = np.round(next_state,2)\n",
    "            score += reward\n",
    "            i+=1\n",
    "            if np.any(done):\n",
    "                break\n",
    "                \n",
    "        scores_deque.append(score)\n",
    "        scores.append(score)\n",
    "        print('\\rEpisode {}\\tAverage Score: {:.2f}'.format(i_episode, np.mean(scores_deque)), end=\"\")\n",
    "        \n",
    "        if i_episode % print_every == 0:\n",
    "            print('\\rEpisode {}\\tAverage Score: {:.2f}'.format(i_episode, np.mean(scores_deque)))\n",
    "            torch.save(agent.actor_local.state_dict(), 'checkpoint_actor.pth')\n",
    "            torch.save(agent.critic_local.state_dict(), 'checkpoint_critic.pth')\n",
    "            \n",
    "        if np.mean(scores_deque) >=300:\n",
    "            torch.save(agent.actor_local.state_dict(), 'checkpoint_actor.pth')\n",
    "            torch.save(agent.critic_local.state_dict(), 'checkpoint_critic.pth')\n",
    "            break\n",
    "            \n",
    "    return scores\n",
    "\n",
    "scores = ddpg()\n",
    "\n",
    "fig = plt.figure()\n",
    "ax = fig.add_subplot(111)\n",
    "plt.plot(np.arange(1, len(scores)+1), scores)\n",
    "plt.ylabel('Score')\n",
    "plt.xlabel('Episode #')\n",
    "plt.show()"
   ]
  },
  {
   "cell_type": "markdown",
   "metadata": {},
   "source": [
    "#  Close environment"
   ]
  },
  {
   "cell_type": "code",
   "execution_count": 17,
   "metadata": {
    "scrolled": true
   },
   "outputs": [
    {
     "name": "stdout",
     "output_type": "stream",
     "text": [
      "Stopping twitcher ... \n",
      "Stopping bluebird ... \n",
      "Stopping bluesky  ... \n",
      "\u001b[1Bping bluesky  ... \u001b[32mdone\u001b[0m\u001b[2A\u001b[2K\u001b[1A\u001b[2KRemoving twitcher ... \n",
      "Removing bluebird ... \n",
      "Removing bluesky  ... \n",
      "\u001b[2BRemoving network simurgh_default[1A\u001b[2K\n"
     ]
    }
   ],
   "source": [
    "!docker-compose down"
   ]
  }
 ],
 "metadata": {
  "kernelspec": {
   "display_name": "Python 3",
   "language": "python",
   "name": "python3"
  },
  "language_info": {
   "codemirror_mode": {
    "name": "ipython",
    "version": 3
   },
   "file_extension": ".py",
   "mimetype": "text/x-python",
   "name": "python",
   "nbconvert_exporter": "python",
   "pygments_lexer": "ipython3",
   "version": "3.6.8"
  }
 },
 "nbformat": 4,
 "nbformat_minor": 2
}
