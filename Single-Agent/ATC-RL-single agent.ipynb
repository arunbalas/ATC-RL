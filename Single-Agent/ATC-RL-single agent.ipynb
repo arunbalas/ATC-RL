{
 "cells": [
  {
   "cell_type": "code",
   "execution_count": 1,
   "metadata": {},
   "outputs": [],
   "source": [
    "import gym\n",
    "import time\n",
    "import random\n",
    "import torch\n",
    "import numpy as np\n",
    "from collections import deque\n",
    "import matplotlib.pyplot as plt\n",
    "import envs.atc.atc_gym\n",
    "from ddpg_agent import Agent\n",
    "%matplotlib inline"
   ]
  },
  {
   "cell_type": "code",
   "execution_count": 2,
   "metadata": {},
   "outputs": [],
   "source": [
    "#Make environment\n",
    "env = gym.make('AtcEnv-v0')\n",
    "num_agent = 1\n",
    "state_size = 10\n",
    "action_size = 3"
   ]
  },
  {
   "cell_type": "code",
   "execution_count": 12,
   "metadata": {},
   "outputs": [
    {
     "name": "stdout",
     "output_type": "stream",
     "text": [
      "Total score (averaged over agents) this episode: -60.385611682075236\n"
     ]
    }
   ],
   "source": [
    "#Take random actions\n",
    "state = env.reset()                                 # reset the environment    \n",
    "scores = np.zeros(num_agent)                          # initialize the score \n",
    "while True:\n",
    "    action = env.action_space.sample()             # select an action \n",
    "    next_state, reward, done, info = env.step(action)           # send all actions to the environment\n",
    "    scores += reward                         # update the score \n",
    "    state = next_state\n",
    "    if np.any(done):                                  # exit loop if episode finished\n",
    "        break\n",
    "print('Total score (averaged over agents) this episode: {}'.format(np.mean(scores)))"
   ]
  },
  {
   "cell_type": "code",
   "execution_count": 22,
   "metadata": {},
   "outputs": [],
   "source": [
    "agent.eps = 0.9"
   ]
  },
  {
   "cell_type": "code",
   "execution_count": 10,
   "metadata": {},
   "outputs": [],
   "source": [
    "agent = Agent(state_size=state_size, action_size=action_size, random_seed=10)"
   ]
  },
  {
   "cell_type": "code",
   "execution_count": null,
   "metadata": {},
   "outputs": [],
   "source": [
    "def ddpg(n_episodes=1500, max_t=1000, print_every=10):\n",
    "    scores_deque = deque(maxlen=print_every)\n",
    "    scores = []\n",
    "    for i_episode in range(1, n_episodes+1):\n",
    "        state = env.reset()   \n",
    "        agent.reset()\n",
    "        score = np.zeros(num_agent)\n",
    "        for t in range(max_t):\n",
    "            action = agent.act(state).reshape(3)             # select an action\n",
    "            next_state, reward, done, info = env.step(action)           # send all actions to the environment\n",
    "            agent.step(state, action, reward, next_state, done, t)\n",
    "            state = next_state\n",
    "            score += reward\n",
    "            if np.any(done):\n",
    "                break\n",
    "                \n",
    "        scores_deque.append(score)\n",
    "        scores.append(score)\n",
    "        print('\\rEpisode {}\\tAverage Score: {:.2f}'.format(i_episode, np.mean(scores_deque)), end=\"\")\n",
    "        \n",
    "        if i_episode % print_every == 0:\n",
    "            print('\\rEpisode {}\\tAverage Score: {:.2f}'.format(i_episode, np.mean(scores_deque)))\n",
    "            torch.save(agent.actor_local.state_dict(), 'checkpoint_actor_1.pth')\n",
    "            torch.save(agent.critic_local.state_dict(), 'checkpoint_critic_1.pth')\n",
    "            \n",
    "        if np.mean(scores_deque) >=1000:\n",
    "            torch.save(agent.actor_local.state_dict(), 'checkpoint_actor_1.pth')\n",
    "            torch.save(agent.critic_local.state_dict(), 'checkpoint_critic_1.pth')\n",
    "            break\n",
    "            \n",
    "    return scores\n",
    "\n",
    "scores = ddpg()\n",
    "\n",
    "fig = plt.figure()\n",
    "ax = fig.add_subplot(111)\n",
    "plt.plot(np.arange(1, len(scores)+1), scores)\n",
    "plt.ylabel('Score')\n",
    "plt.xlabel('Episode #')\n",
    "plt.show()"
   ]
  },
  {
   "cell_type": "code",
   "execution_count": 30,
   "metadata": {},
   "outputs": [
    {
     "name": "stdout",
     "output_type": "stream",
     "text": [
      "Total score (averaged over agents) this episode: 146.22589921575576\n"
     ]
    }
   ],
   "source": [
    "#Test the agent\n",
    "agent.actor_local.load_state_dict(torch.load('checkpoint_actor_1.pth', map_location='cpu'))\n",
    "agent.critic_local.load_state_dict(torch.load('checkpoint_critic_1.pth', map_location='cpu'))      \n",
    "        \n",
    "state = env.reset()                                 # reset the environment    \n",
    "scores = np.zeros(num_agent)                          # initialize the score \n",
    "while True:\n",
    "#for t in range(500):\n",
    "    action = action = agent.act(state).reshape(3)\n",
    "    #action = env.action_space.sample()             # select an action \n",
    "    next_state, reward, done, info = env.step(action)           # send all actions to the environment\n",
    "    env.render()\n",
    "    scores += reward                         # update the score \n",
    "    state = next_state\n",
    "    if np.any(done):                                  # exit loop if episode finished\n",
    "        break\n",
    "print('Total score (averaged over agents) this episode: {}'.format(np.mean(scores)))"
   ]
  },
  {
   "cell_type": "code",
   "execution_count": 53,
   "metadata": {},
   "outputs": [],
   "source": [
    "#Close the environment\n",
    "env.close()"
   ]
  }
 ],
 "metadata": {
  "kernelspec": {
   "display_name": "Python 3",
   "language": "python",
   "name": "python3"
  },
  "language_info": {
   "codemirror_mode": {
    "name": "ipython",
    "version": 3
   },
   "file_extension": ".py",
   "mimetype": "text/x-python",
   "name": "python",
   "nbconvert_exporter": "python",
   "pygments_lexer": "ipython3",
   "version": "3.6.8"
  }
 },
 "nbformat": 4,
 "nbformat_minor": 2
}
