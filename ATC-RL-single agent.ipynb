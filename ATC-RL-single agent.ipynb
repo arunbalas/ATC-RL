{
 "cells": [
  {
   "cell_type": "code",
   "execution_count": 1,
   "metadata": {},
   "outputs": [],
   "source": [
    "import gym\n",
    "import time\n",
    "import random\n",
    "import torch\n",
    "import numpy as np\n",
    "from collections import deque\n",
    "import matplotlib.pyplot as plt\n",
    "from ddpg_agent import Agent\n",
    "import envs.atc.atc_gym\n",
    "%matplotlib inline\n"
   ]
  },
  {
   "cell_type": "code",
   "execution_count": 2,
   "metadata": {},
   "outputs": [
    {
     "name": "stdout",
     "output_type": "stream",
     "text": [
      "Size of each action: 3\n",
      "There is 1 agent. Each observes a state with length: 10\n"
     ]
    }
   ],
   "source": [
    "#Make environment\n",
    "env = gym.make('AtcEnv-v0')\n",
    "# reset the environment\n",
    "num_agent = 1\n",
    "# size of each action\n",
    "action_size = 3\n",
    "print('Size of each action:', action_size)\n",
    "\n",
    "# examine the state space \n",
    "state_size = 10\n",
    "print('There is {} agent. Each observes a state with length: {}'.format(num_agent, state_size))"
   ]
  },
  {
   "cell_type": "code",
   "execution_count": 3,
   "metadata": {},
   "outputs": [
    {
     "name": "stdout",
     "output_type": "stream",
     "text": [
      "Total score (averaged over agents) this episode: -60.77296407284844\n"
     ]
    }
   ],
   "source": [
    "#Take random actions\n",
    "env_info = env.reset()                                 # reset the environment    \n",
    "scores = np.zeros(num_agent)                          # initialize the score (for each agent)\n",
    "while True:\n",
    "    action = env.action_space.sample()             # select an action (for each agent)\n",
    "    next_states, rewards, dones, info = env.step(action)           # send all actions to tne environment\n",
    "    #env.render()\n",
    "    scores += rewards                         # update the score (for each agent)\n",
    "    if np.any(dones):                                  # exit loop if episode finished\n",
    "        break\n",
    "print('Total score (averaged over agents) this episode: {}'.format(np.mean(scores)))"
   ]
  },
  {
   "cell_type": "code",
   "execution_count": null,
   "metadata": {},
   "outputs": [],
   "source": []
  }
 ],
 "metadata": {
  "kernelspec": {
   "display_name": "Python 3",
   "language": "python",
   "name": "python3"
  },
  "language_info": {
   "codemirror_mode": {
    "name": "ipython",
    "version": 3
   },
   "file_extension": ".py",
   "mimetype": "text/x-python",
   "name": "python",
   "nbconvert_exporter": "python",
   "pygments_lexer": "ipython3",
   "version": "3.6.8"
  }
 },
 "nbformat": 4,
 "nbformat_minor": 2
}
